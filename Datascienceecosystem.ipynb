{
 "cells": [
  {
   "cell_type": "markdown",
   "id": "76fa70c8",
   "metadata": {},
   "source": [
    "# Data Science Tools and Ecosystem"
   ]
  },
  {
   "cell_type": "markdown",
   "id": "3c2561e0",
   "metadata": {},
   "source": [
    "In this notebook, Data Science Tools and Ecosystem are summarized."
   ]
  },
  {
   "cell_type": "markdown",
   "id": "b3172833",
   "metadata": {},
   "source": [
    "Some of the popular languages that Data Scientists use are:"
   ]
  },
  {
   "cell_type": "code",
   "execution_count": 1,
   "id": "bc6a8238",
   "metadata": {},
   "outputs": [],
   "source": [
    "languages=['Python','R','Java']"
   ]
  },
  {
   "cell_type": "markdown",
   "id": "c6daa9e0",
   "metadata": {},
   "source": [
    "Some of the commonly used libraries used by Data Scientists include:"
   ]
  },
  {
   "cell_type": "code",
   "execution_count": 2,
   "id": "0f87e1a1",
   "metadata": {},
   "outputs": [],
   "source": [
    "libraries=['Scikit-learn','Numpy','Pandas']"
   ]
  },
  {
   "cell_type": "markdown",
   "id": "95a6cf2f",
   "metadata": {},
   "source": [
    "Data Science Tools"
   ]
  },
  {
   "cell_type": "code",
   "execution_count": 5,
   "id": "f15536b8",
   "metadata": {},
   "outputs": [
    {
     "name": "stdout",
     "output_type": "stream",
     "text": [
      "{'Data Science Tools': ['Python', 'Watson Studio', 'Scikit-learn']}\n"
     ]
    }
   ],
   "source": [
    "Data_science={'Data Science Tools':['Python','Watson Studio','Scikit-learn']}\n",
    "print(Data_science)"
   ]
  },
  {
   "cell_type": "markdown",
   "id": "1da9cba7",
   "metadata": {},
   "source": [
    "### Below are a few examples of evaluating arithmetic expressions in Python"
   ]
  },
  {
   "cell_type": "code",
   "execution_count": 3,
   "id": "a1ad2033",
   "metadata": {},
   "outputs": [
    {
     "data": {
      "text/plain": [
       "17"
      ]
     },
     "execution_count": 3,
     "metadata": {},
     "output_type": "execute_result"
    }
   ],
   "source": [
    " #This a simple arithmetic expression to mutiply then add integers\n",
    "(3*4)+5"
   ]
  },
  {
   "cell_type": "code",
   "execution_count": 4,
   "id": "4ea05aed",
   "metadata": {},
   "outputs": [
    {
     "data": {
      "text/plain": [
       "3.3333333333333335"
      ]
     },
     "execution_count": 4,
     "metadata": {},
     "output_type": "execute_result"
    }
   ],
   "source": [
    "#This will convert 200 minutes to hours by diving by 60\n",
    "200/60"
   ]
  },
  {
   "cell_type": "markdown",
   "id": "15646438",
   "metadata": {},
   "source": [
    "**Objective**\n"
   ]
  },
  {
   "cell_type": "markdown",
   "id": "09ec2672",
   "metadata": {},
   "source": [
    "- List for popular Data Science Languages are:\n",
    "  - Python\n",
    "  - R\n",
    "  - Java\n",
    "- Doing Arithmetic Operation in Python Intrepretor\n",
    "- Which is the most common python libraries used by Data Scientist"
   ]
  },
  {
   "cell_type": "markdown",
   "id": "2bb7d71b",
   "metadata": {},
   "source": [
    "## Author"
   ]
  },
  {
   "cell_type": "markdown",
   "id": "6135d299",
   "metadata": {},
   "source": [
    "Author\\\n",
    "Rahul Kumar Vishwakarma"
   ]
  },
  {
   "cell_type": "code",
   "execution_count": null,
   "id": "2c41f068",
   "metadata": {},
   "outputs": [],
   "source": []
  }
 ],
 "metadata": {
  "kernelspec": {
   "display_name": "Python 3 (ipykernel)",
   "language": "python",
   "name": "python3"
  },
  "language_info": {
   "codemirror_mode": {
    "name": "ipython",
    "version": 3
   },
   "file_extension": ".py",
   "mimetype": "text/x-python",
   "name": "python",
   "nbconvert_exporter": "python",
   "pygments_lexer": "ipython3",
   "version": "3.9.12"
  }
 },
 "nbformat": 4,
 "nbformat_minor": 5
}
